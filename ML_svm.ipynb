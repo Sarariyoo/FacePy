{
 "cells": [
  {
   "cell_type": "code",
   "execution_count": 4,
   "metadata": {},
   "outputs": [
    {
     "name": "stdout",
     "output_type": "stream",
     "text": [
      "モデル保管完了\n"
     ]
    }
   ],
   "source": [
    "import cv2\n",
    "import numpy as np\n",
    "from PIL import Image\n",
    "import os\n",
    "from sklearn import svm\n",
    "import pickle\n",
    "\n",
    "#顔を判別する\n",
    "images = []\n",
    "labels = []\n",
    "path = 'img'\n",
    "\n",
    "for f in os.listdir(path):\n",
    "    image_path = os.path.join(path, f)\n",
    "    if image_path == 'img/.DS_Store':\n",
    "        continue\n",
    "    else:\n",
    "        gray_image = Image.open(image_path).convert(\"L\")\n",
    "        image = np.array(gray_image, \"uint8\")\n",
    "        image = image.flatten()\n",
    "        images.append(image)\n",
    "        labels.append(str(f[0:4]))\n",
    "\n",
    "labels = np.array(labels)\n",
    "images = np.array(images)\n",
    "\n",
    "clf = svm.LinearSVC()\n",
    "clf.fit(images, labels)\n",
    "\n",
    "filename = \"face_model.sav\"\n",
    "pickle.dump(clf, open(filename, \"wb\"))\n",
    "\n",
    "print(\"モデル保管完了\")"
   ]
  },
  {
   "cell_type": "code",
   "execution_count": null,
   "metadata": {},
   "outputs": [],
   "source": []
  },
  {
   "cell_type": "code",
   "execution_count": null,
   "metadata": {},
   "outputs": [],
   "source": []
  }
 ],
 "metadata": {
  "kernelspec": {
   "display_name": "Python 3",
   "language": "python",
   "name": "python3"
  },
  "language_info": {
   "codemirror_mode": {
    "name": "ipython",
    "version": 3
   },
   "file_extension": ".py",
   "mimetype": "text/x-python",
   "name": "python",
   "nbconvert_exporter": "python",
   "pygments_lexer": "ipython3",
   "version": "3.6.5"
  }
 },
 "nbformat": 4,
 "nbformat_minor": 2
}
